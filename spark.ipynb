{
 "cells": [
  {
   "cell_type": "code",
   "execution_count": 12,
   "id": "44192cb6-1b79-4de7-bbf8-664d1926fa9f",
   "metadata": {},
   "outputs": [
    {
     "name": "stdout",
     "output_type": "stream",
     "text": [
      "['./jars/hadoop-aws-3.3.2.jar', './jars/aws-java-sdk-bundle-1.11.1026.jar', './jars/iceberg-spark-runtime-3.5_2.12-1.5.2.jar', './jars/mysql-connector-j-8.4.0.jar']\n"
     ]
    }
   ],
   "source": [
    "from pyspark.sql import SparkSession\n",
    "from os import walk\n",
    "import glob\n",
    "\n",
    "jars = glob.glob('./jars/*.jar')\n",
    "print(jars)\n",
    "\n",
    "!export AWS_ACCESS_KEY_ID=root\n",
    "!export AWS_SECRET_ACCESS_KEY=12345678\n",
    "\n",
    "spark = SparkSession.builder\\\n",
    "    .config(\"spark.jars\",\",\".join(jars))\\\n",
    "    .config(\"spark.sql.extensions\", \"org.apache.iceberg.spark.extensions.IcebergSparkSessionExtensions\") \\\n",
    "    .config(\"spark.sql.catalog.my_catalog\", \"org.apache.iceberg.spark.SparkCatalog\") \\\n",
    "    .config(\"spark.sql.catalog.my_catalog.catalog-impl\", \"org.apache.iceberg.jdbc.JdbcCatalog\") \\\n",
    "    .config(\"spark.sql.catalog.my_catalog.uri\", \"jdbc:mysql://host.docker.internal:3306/iceberg_catalog\") \\\n",
    "    .config(\"spark.sql.catalog.my_catalog.jdbc.user\", \"root\") \\\n",
    "    .config(\"spark.sql.catalog.my_catalog.jdbc.password\", \"root\") \\\n",
    "    .config(\"spark.sql.catalog.my_catalog.jdbc.driver\", \"com.mysql.cj.jdbc.Driver\") \\\n",
    "    .config(\"spark.sql.catalog.my_catalog.warehouse\", \"s3a://warehouse\") \\\n",
    "    .config(\"spark.hadoop.fs.s3a.endpoint\", \"http://host.docker.internal:9000\") \\\n",
    "    .config(\"spark.hadoop.fs.s3a.access.key\", \"root\") \\\n",
    "    .config(\"spark.hadoop.fs.s3a.secret.key\", \"12345678\") \\\n",
    "    .config(\"spark.hadoop.fs.s3a.path.style.access\", \"true\") \\\n",
    "    .config(\"spark.hadoop.fs.s3a.impl\", \"org.apache.hadoop.fs.s3a.S3AFileSystem\") \\\n",
    "    .getOrCreate()"
   ]
  },
  {
   "cell_type": "code",
   "execution_count": 2,
   "id": "78b17093-4504-42f1-bacf-53f03fe15f3e",
   "metadata": {
    "scrolled": true
   },
   "outputs": [],
   "source": [
    "jdbc_url = \"jdbc:mysql://host.docker.internal:3306/spark_test\"\n",
    "table_name = \"config\"\n",
    "properties = {\n",
    "    \"user\": \"root\",\n",
    "    \"password\": \"root\",\n",
    "    \"driver\": \"com.mysql.cj.jdbc.Driver\"\n",
    "}\n",
    "\n",
    "# 读取MySQL表数据\n",
    "df = spark.read.jdbc(url=jdbc_url, table=table_name, properties=properties)"
   ]
  },
  {
   "cell_type": "code",
   "execution_count": 3,
   "id": "95875a01-e51b-4dde-bf15-b9565e7eb74c",
   "metadata": {},
   "outputs": [
    {
     "name": "stdout",
     "output_type": "stream",
     "text": [
      "+----+----+\n",
      "| key| val|\n",
      "+----+----+\n",
      "|NAME|andy|\n",
      "+----+----+\n",
      "\n"
     ]
    }
   ],
   "source": [
    "df.show()"
   ]
  },
  {
   "cell_type": "code",
   "execution_count": 10,
   "id": "3427c1d5-5de6-492d-8d46-5384dd204ec0",
   "metadata": {},
   "outputs": [
    {
     "data": {
      "text/plain": [
       "DataFrame[]"
      ]
     },
     "execution_count": 10,
     "metadata": {},
     "output_type": "execute_result"
    }
   ],
   "source": [
    "spark.sql(\"\"\"\n",
    "CREATE TABLE IF NOT EXISTS my_catalog.default.my_iceberg_table (\n",
    "    key STRING,\n",
    "    val STRING\n",
    ") USING iceberg\n",
    "\"\"\")"
   ]
  },
  {
   "cell_type": "code",
   "execution_count": 11,
   "id": "b62c8934-805d-4298-8d0a-bf37df0b6f1e",
   "metadata": {},
   "outputs": [],
   "source": [
    "df.write \\\n",
    "    .format(\"iceberg\") \\\n",
    "    .mode(\"overwrite\") \\\n",
    "    .save(\"my_catalog.default.my_iceberg_table\")"
   ]
  },
  {
   "cell_type": "code",
   "execution_count": null,
   "id": "5ad62ba6-fa04-42e4-8b4a-07fef10057fe",
   "metadata": {},
   "outputs": [],
   "source": []
  }
 ],
 "metadata": {
  "kernelspec": {
   "display_name": "Python 3 (ipykernel)",
   "language": "python",
   "name": "python3"
  },
  "language_info": {
   "codemirror_mode": {
    "name": "ipython",
    "version": 3
   },
   "file_extension": ".py",
   "mimetype": "text/x-python",
   "name": "python",
   "nbconvert_exporter": "python",
   "pygments_lexer": "ipython3",
   "version": "3.11.6"
  }
 },
 "nbformat": 4,
 "nbformat_minor": 5
}
